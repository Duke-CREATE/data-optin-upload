{
 "cells": [
  {
   "cell_type": "code",
   "execution_count": 1,
   "metadata": {},
   "outputs": [],
   "source": [
    "from datetime import datetime\n",
    "import os\n",
    "import dotenv\n",
    "from pinecone import Pinecone\n",
    "from PyPDF2 import PdfReader\n",
    "from cleaning_utils import *\n",
    "from uploading_vdb_utils import *\n",
    "\n",
    "\n",
    "file_path = \"../sample_docs/cs50_harvard.pdf\"\n",
    "with open(file_path, \"rb\") as file:\n",
    "    pdf_embeddings = pdf_embedding(file)"
   ]
  },
  {
   "cell_type": "code",
   "execution_count": 2,
   "metadata": {},
   "outputs": [
    {
     "data": {
      "text/plain": [
       "[3999, 4407, 4177, 4210, 4225, 4111, 3809, 4209, 3989, 2422]"
      ]
     },
     "execution_count": 2,
     "metadata": {},
     "output_type": "execute_result"
    }
   ],
   "source": [
    "list(map(len, pdf_embeddings[\"document\"]))"
   ]
  },
  {
   "cell_type": "code",
   "execution_count": 3,
   "metadata": {},
   "outputs": [],
   "source": [
    "metadata = {\n",
    "    \"file name\": \"CS_50\",\n",
    "    \"file type\": \".pdf\",\n",
    "}\n",
    "\n",
    "vectors, ids = generating_vetors(pdf_embeddings, metadata, netid=\"rd278\")\n",
    "pdf_embeddings[\"ID\"] = ids"
   ]
  },
  {
   "cell_type": "code",
   "execution_count": 4,
   "metadata": {},
   "outputs": [
    {
     "data": {
      "text/plain": [
       "[28, 28, 28, 28, 28, 28, 28, 28, 28, 28]"
      ]
     },
     "execution_count": 4,
     "metadata": {},
     "output_type": "execute_result"
    }
   ],
   "source": [
    "list(map(len, pdf_embeddings[\"ID\"]))"
   ]
  },
  {
   "cell_type": "code",
   "execution_count": 5,
   "metadata": {},
   "outputs": [
    {
     "data": {
      "text/html": [
       "<div>\n",
       "<style scoped>\n",
       "    .dataframe tbody tr th:only-of-type {\n",
       "        vertical-align: middle;\n",
       "    }\n",
       "\n",
       "    .dataframe tbody tr th {\n",
       "        vertical-align: top;\n",
       "    }\n",
       "\n",
       "    .dataframe thead th {\n",
       "        text-align: right;\n",
       "    }\n",
       "</style>\n",
       "<table border=\"1\" class=\"dataframe\">\n",
       "  <thead>\n",
       "    <tr style=\"text-align: right;\">\n",
       "      <th></th>\n",
       "      <th>document</th>\n",
       "      <th>values</th>\n",
       "      <th>ID</th>\n",
       "    </tr>\n",
       "  </thead>\n",
       "  <tbody>\n",
       "    <tr>\n",
       "      <th>0</th>\n",
       "      <td>Teaching CS50 with AI\\nLeveraging Generative A...</td>\n",
       "      <td>[0.0016433328855782747, 0.01620206981897354, 0...</td>\n",
       "      <td>ID-rd278-1707749385.818722-0</td>\n",
       "    </tr>\n",
       "    <tr>\n",
       "      <th>1</th>\n",
       "      <td>\\n(AI) built atop large language models (LLMs)...</td>\n",
       "      <td>[0.006348843220621347, -0.009144599549472332, ...</td>\n",
       "      <td>ID-rd278-1707749385.818722-1</td>\n",
       "    </tr>\n",
       "    <tr>\n",
       "      <th>2</th>\n",
       "      <td>:1 teacher-to-student\\nratio, providing each s...</td>\n",
       "      <td>[0.00807948224246502, -0.006738923955708742, 0...</td>\n",
       "      <td>ID-rd278-1707749385.818722-2</td>\n",
       "    </tr>\n",
       "    <tr>\n",
       "      <th>3</th>\n",
       "      <td>\\nonline discussion forum for asynchronous hel...</td>\n",
       "      <td>[3.493686381261796e-05, -0.021586531773209572,...</td>\n",
       "      <td>ID-rd278-1707749385.818722-3</td>\n",
       "    </tr>\n",
       "    <tr>\n",
       "      <th>4</th>\n",
       "      <td>LLMs can take a series of prompts as input and...</td>\n",
       "      <td>[-0.008169667795300484, -0.0031846577767282724...</td>\n",
       "      <td>ID-rd278-1707749385.818722-4</td>\n",
       "    </tr>\n",
       "    <tr>\n",
       "      <th>5</th>\n",
       "      <td>replies to\\nthese threads). The CS50 Duck on E...</td>\n",
       "      <td>[-0.0011166228214278817, -0.001193598494865000...</td>\n",
       "      <td>ID-rd278-1707749385.818722-5</td>\n",
       "    </tr>\n",
       "    <tr>\n",
       "      <th>6</th>\n",
       "      <td>% “helpful,” 21% “some-\\nwhat helpful,” and 6%...</td>\n",
       "      <td>[0.014878105372190475, 0.021495763212442398, 0...</td>\n",
       "      <td>ID-rd278-1707749385.818722-6</td>\n",
       "    </tr>\n",
       "    <tr>\n",
       "      <th>7</th>\n",
       "      <td>-4 to be out-of-sync with the course’s latest\\...</td>\n",
       "      <td>[0.02324444241821766, 0.011087690480053425, 0....</td>\n",
       "      <td>ID-rd278-1707749385.818722-7</td>\n",
       "    </tr>\n",
       "    <tr>\n",
       "      <th>8</th>\n",
       "      <td>staff. (In CS50’s MOOC, design\\nis not evalua...</td>\n",
       "      <td>[0.018958529457449913, 0.02126556821167469, 0....</td>\n",
       "      <td>ID-rd278-1707749385.818722-8</td>\n",
       "    </tr>\n",
       "    <tr>\n",
       "      <th>9</th>\n",
       "      <td>, Nayeon Lee, Rita Frieske, Tiezheng Yu, Dan S...</td>\n",
       "      <td>[-0.03487817198038101, 0.018287474289536476, 0...</td>\n",
       "      <td>ID-rd278-1707749385.818722-9</td>\n",
       "    </tr>\n",
       "  </tbody>\n",
       "</table>\n",
       "</div>"
      ],
      "text/plain": [
       "                                            document  \\\n",
       "0  Teaching CS50 with AI\\nLeveraging Generative A...   \n",
       "1  \\n(AI) built atop large language models (LLMs)...   \n",
       "2  :1 teacher-to-student\\nratio, providing each s...   \n",
       "3  \\nonline discussion forum for asynchronous hel...   \n",
       "4  LLMs can take a series of prompts as input and...   \n",
       "5  replies to\\nthese threads). The CS50 Duck on E...   \n",
       "6  % “helpful,” 21% “some-\\nwhat helpful,” and 6%...   \n",
       "7  -4 to be out-of-sync with the course’s latest\\...   \n",
       "8   staff. (In CS50’s MOOC, design\\nis not evalua...   \n",
       "9  , Nayeon Lee, Rita Frieske, Tiezheng Yu, Dan S...   \n",
       "\n",
       "                                              values  \\\n",
       "0  [0.0016433328855782747, 0.01620206981897354, 0...   \n",
       "1  [0.006348843220621347, -0.009144599549472332, ...   \n",
       "2  [0.00807948224246502, -0.006738923955708742, 0...   \n",
       "3  [3.493686381261796e-05, -0.021586531773209572,...   \n",
       "4  [-0.008169667795300484, -0.0031846577767282724...   \n",
       "5  [-0.0011166228214278817, -0.001193598494865000...   \n",
       "6  [0.014878105372190475, 0.021495763212442398, 0...   \n",
       "7  [0.02324444241821766, 0.011087690480053425, 0....   \n",
       "8  [0.018958529457449913, 0.02126556821167469, 0....   \n",
       "9  [-0.03487817198038101, 0.018287474289536476, 0...   \n",
       "\n",
       "                             ID  \n",
       "0  ID-rd278-1707749385.818722-0  \n",
       "1  ID-rd278-1707749385.818722-1  \n",
       "2  ID-rd278-1707749385.818722-2  \n",
       "3  ID-rd278-1707749385.818722-3  \n",
       "4  ID-rd278-1707749385.818722-4  \n",
       "5  ID-rd278-1707749385.818722-5  \n",
       "6  ID-rd278-1707749385.818722-6  \n",
       "7  ID-rd278-1707749385.818722-7  \n",
       "8  ID-rd278-1707749385.818722-8  \n",
       "9  ID-rd278-1707749385.818722-9  "
      ]
     },
     "execution_count": 5,
     "metadata": {},
     "output_type": "execute_result"
    }
   ],
   "source": [
    "pdf_embeddings"
   ]
  },
  {
   "cell_type": "markdown",
   "metadata": {},
   "source": [
    "# Uploading to pinecone"
   ]
  },
  {
   "cell_type": "code",
   "execution_count": 2,
   "metadata": {},
   "outputs": [],
   "source": [
    "pc = Pinecone(api_key=os.getenv(\"PINECONE_API_KEY\"))\n",
    "index = pc.Index(\"chatarena\")"
   ]
  },
  {
   "cell_type": "code",
   "execution_count": 17,
   "metadata": {},
   "outputs": [
    {
     "data": {
      "text/plain": [
       "{'upserted_count': 10}"
      ]
     },
     "execution_count": 17,
     "metadata": {},
     "output_type": "execute_result"
    }
   ],
   "source": [
    "index.upsert(vectors)"
   ]
  },
  {
   "cell_type": "code",
   "execution_count": 7,
   "metadata": {},
   "outputs": [],
   "source": [
    "import mysql.connector\n",
    "import os\n",
    "import dotenv\n",
    "\n",
    "dotenv.load_dotenv()\n",
    "\n",
    "try:\n",
    "    cnx = mysql.connector.connect(\n",
    "        user=os.getenv(\"MYSQL_ADMIN\"),\n",
    "        password=os.getenv(\"MYSQL_PASS\"),\n",
    "        host=os.getenv(\"MYSQL_HOST\"),\n",
    "        port=3306,\n",
    "        database=os.getenv(\"MY_SQL_DATABASE\"),\n",
    "    )\n",
    "except Exception as err:\n",
    "    print(f\"The connection to Azure MySQL failed.\\nError: {err}\\n\")"
   ]
  },
  {
   "cell_type": "code",
   "execution_count": 8,
   "metadata": {},
   "outputs": [
    {
     "name": "stdout",
     "output_type": "stream",
     "text": [
      "Tables: [('documents_values',)]\n"
     ]
    }
   ],
   "source": [
    "cursor = cnx.cursor()\n",
    "\n",
    "# Show tables\n",
    "cursor.execute(\"SHOW TABLES\")\n",
    "tables = cursor.fetchall()\n",
    "print(\"Tables:\", tables)"
   ]
  },
  {
   "cell_type": "code",
   "execution_count": 9,
   "metadata": {},
   "outputs": [],
   "source": [
    "cursor.execute(\"DROP TABLE IF EXISTS documents_values\")"
   ]
  },
  {
   "cell_type": "code",
   "execution_count": null,
   "metadata": {},
   "outputs": [],
   "source": [
    "# Check if table exists\n",
    "try:\n",
    "    if (\"documents_values\",) not in tables:\n",
    "        # Create table\n",
    "        cursor.execute(\n",
    "            \"\"\"\n",
    "            CREATE TABLE documents_values (\n",
    "                ID CHAR(50) PRIMARY KEY,\n",
    "                document TEXT\n",
    "            )\n",
    "        \"\"\"\n",
    "        )\n",
    "        print(\"Table created.\")\n",
    "    else:\n",
    "        print(\"Table already exists.\")\n",
    "\n",
    "except Exception as err:\n",
    "    print(f\"The connection to Azure MySQL failed.\\nError: {err}\\n\")"
   ]
  },
  {
   "cell_type": "code",
   "execution_count": 10,
   "metadata": {},
   "outputs": [],
   "source": [
    "from sqlalchemy import create_engine\n",
    "import pandas.io.sql as psql\n",
    "\n",
    "# Create a SQLAlchemy engine from the existing MySQL connection\n",
    "engine = create_engine(\"mysql+mysqlconnector://\", creator=lambda: cnx)\n",
    "\n",
    "# Write the DataFrame to the SQL table"
   ]
  },
  {
   "cell_type": "code",
   "execution_count": 31,
   "metadata": {},
   "outputs": [
    {
     "data": {
      "text/plain": [
       "Engine(mysql+mysqlconnector://)"
      ]
     },
     "execution_count": 31,
     "metadata": {},
     "output_type": "execute_result"
    }
   ],
   "source": [
    "engine"
   ]
  },
  {
   "cell_type": "code",
   "execution_count": 14,
   "metadata": {},
   "outputs": [
    {
     "data": {
      "text/html": [
       "<div>\n",
       "<style scoped>\n",
       "    .dataframe tbody tr th:only-of-type {\n",
       "        vertical-align: middle;\n",
       "    }\n",
       "\n",
       "    .dataframe tbody tr th {\n",
       "        vertical-align: top;\n",
       "    }\n",
       "\n",
       "    .dataframe thead th {\n",
       "        text-align: right;\n",
       "    }\n",
       "</style>\n",
       "<table border=\"1\" class=\"dataframe\">\n",
       "  <thead>\n",
       "    <tr style=\"text-align: right;\">\n",
       "      <th></th>\n",
       "      <th>ID</th>\n",
       "      <th>document</th>\n",
       "    </tr>\n",
       "  </thead>\n",
       "  <tbody>\n",
       "    <tr>\n",
       "      <th>0</th>\n",
       "      <td>ID-rd278-1707749385.818722-0</td>\n",
       "      <td>Teaching CS50 with AI\\nLeveraging Generative A...</td>\n",
       "    </tr>\n",
       "    <tr>\n",
       "      <th>1</th>\n",
       "      <td>ID-rd278-1707749385.818722-1</td>\n",
       "      <td>\\n(AI) built atop large language models (LLMs)...</td>\n",
       "    </tr>\n",
       "    <tr>\n",
       "      <th>2</th>\n",
       "      <td>ID-rd278-1707749385.818722-2</td>\n",
       "      <td>:1 teacher-to-student\\nratio, providing each s...</td>\n",
       "    </tr>\n",
       "    <tr>\n",
       "      <th>3</th>\n",
       "      <td>ID-rd278-1707749385.818722-3</td>\n",
       "      <td>\\nonline discussion forum for asynchronous hel...</td>\n",
       "    </tr>\n",
       "    <tr>\n",
       "      <th>4</th>\n",
       "      <td>ID-rd278-1707749385.818722-4</td>\n",
       "      <td>LLMs can take a series of prompts as input and...</td>\n",
       "    </tr>\n",
       "    <tr>\n",
       "      <th>5</th>\n",
       "      <td>ID-rd278-1707749385.818722-5</td>\n",
       "      <td>replies to\\nthese threads). The CS50 Duck on E...</td>\n",
       "    </tr>\n",
       "    <tr>\n",
       "      <th>6</th>\n",
       "      <td>ID-rd278-1707749385.818722-6</td>\n",
       "      <td>% “helpful,” 21% “some-\\nwhat helpful,” and 6%...</td>\n",
       "    </tr>\n",
       "    <tr>\n",
       "      <th>7</th>\n",
       "      <td>ID-rd278-1707749385.818722-7</td>\n",
       "      <td>-4 to be out-of-sync with the course’s latest\\...</td>\n",
       "    </tr>\n",
       "    <tr>\n",
       "      <th>8</th>\n",
       "      <td>ID-rd278-1707749385.818722-8</td>\n",
       "      <td>staff. (In CS50’s MOOC, design\\nis not evalua...</td>\n",
       "    </tr>\n",
       "    <tr>\n",
       "      <th>9</th>\n",
       "      <td>ID-rd278-1707749385.818722-9</td>\n",
       "      <td>, Nayeon Lee, Rita Frieske, Tiezheng Yu, Dan S...</td>\n",
       "    </tr>\n",
       "  </tbody>\n",
       "</table>\n",
       "</div>"
      ],
      "text/plain": [
       "                             ID  \\\n",
       "0  ID-rd278-1707749385.818722-0   \n",
       "1  ID-rd278-1707749385.818722-1   \n",
       "2  ID-rd278-1707749385.818722-2   \n",
       "3  ID-rd278-1707749385.818722-3   \n",
       "4  ID-rd278-1707749385.818722-4   \n",
       "5  ID-rd278-1707749385.818722-5   \n",
       "6  ID-rd278-1707749385.818722-6   \n",
       "7  ID-rd278-1707749385.818722-7   \n",
       "8  ID-rd278-1707749385.818722-8   \n",
       "9  ID-rd278-1707749385.818722-9   \n",
       "\n",
       "                                            document  \n",
       "0  Teaching CS50 with AI\\nLeveraging Generative A...  \n",
       "1  \\n(AI) built atop large language models (LLMs)...  \n",
       "2  :1 teacher-to-student\\nratio, providing each s...  \n",
       "3  \\nonline discussion forum for asynchronous hel...  \n",
       "4  LLMs can take a series of prompts as input and...  \n",
       "5  replies to\\nthese threads). The CS50 Duck on E...  \n",
       "6  % “helpful,” 21% “some-\\nwhat helpful,” and 6%...  \n",
       "7  -4 to be out-of-sync with the course’s latest\\...  \n",
       "8   staff. (In CS50’s MOOC, design\\nis not evalua...  \n",
       "9  , Nayeon Lee, Rita Frieske, Tiezheng Yu, Dan S...  "
      ]
     },
     "execution_count": 14,
     "metadata": {},
     "output_type": "execute_result"
    }
   ],
   "source": [
    "pdf_embeddings[[\"ID\", \"document\"]]"
   ]
  },
  {
   "cell_type": "code",
   "execution_count": 15,
   "metadata": {},
   "outputs": [
    {
     "data": {
      "text/plain": [
       "10"
      ]
     },
     "execution_count": 15,
     "metadata": {},
     "output_type": "execute_result"
    }
   ],
   "source": [
    "from sqlalchemy import create_engine\n",
    "\n",
    "# Create a SQLAlchemy engine using the MySQL connection details\n",
    "engine = create_engine(\n",
    "    f\"mysql+mysqlconnector://{os.getenv('MYSQL_ADMIN')}:{os.getenv('MYSQL_PASS')}@{os.getenv('MYSQL_HOST')}/{os.getenv('MY_SQL_DATABASE')}\"\n",
    ")\n",
    "\n",
    "# Write the DataFrame to the SQL table\n",
    "pdf_embeddings[[\"ID\", \"document\"]].to_sql(\n",
    "    name=\"documents_values\", con=engine, if_exists=\"append\", index=False\n",
    ")"
   ]
  },
  {
   "cell_type": "markdown",
   "metadata": {},
   "source": [
    "# Creating the Retrieval"
   ]
  },
  {
   "cell_type": "markdown",
   "metadata": {},
   "source": [
    "To ask a query we need the embedding of the query "
   ]
  },
  {
   "cell_type": "code",
   "execution_count": 3,
   "metadata": {},
   "outputs": [],
   "source": [
    "text = \"Give 5 points of embeddings and Audio from Mulan paper.\"\n",
    "query_vector = get_embedding(text)"
   ]
  },
  {
   "cell_type": "markdown",
   "metadata": {},
   "source": [
    "now we to retrieve the vector from the VDB"
   ]
  },
  {
   "cell_type": "code",
   "execution_count": 4,
   "metadata": {},
   "outputs": [],
   "source": [
    "response_from_vdb = index.query(\n",
    "    vector=query_vector, top_k=5, include_values=True, include_metadata=True\n",
    ")"
   ]
  },
  {
   "cell_type": "markdown",
   "metadata": {},
   "source": [
    "# Only 3 Chunks so far"
   ]
  },
  {
   "cell_type": "code",
   "execution_count": 5,
   "metadata": {},
   "outputs": [],
   "source": [
    "id_retrieval = [response_from_vdb[\"matches\"][i][\"id\"] for i in range(3)]"
   ]
  },
  {
   "cell_type": "code",
   "execution_count": 6,
   "metadata": {},
   "outputs": [
    {
     "data": {
      "text/plain": [
       "\"'ID-rd278-1707933094.392059-0', 'ID-rd278-1707933091.252368-0', 'ID-rd278-1707933091.252368-4'\""
      ]
     },
     "execution_count": 6,
     "metadata": {},
     "output_type": "execute_result"
    }
   ],
   "source": [
    "# Convert the list of IDs into a string of comma-separated values\n",
    "id_list_str = \", \".join(f\"'{id_}'\" for id_ in id_retrieval)\n",
    "id_list_str"
   ]
  },
  {
   "cell_type": "code",
   "execution_count": 9,
   "metadata": {},
   "outputs": [],
   "source": [
    "# Create the SQL query\n",
    "query = f\"SELECT document FROM documents_values WHERE ID IN ({id_list_str})\"\n",
    "\n",
    "# Execute the query\n",
    "cursor.execute(query)\n",
    "\n",
    "# Fetch the results\n",
    "results = cursor.fetchall()"
   ]
  },
  {
   "cell_type": "code",
   "execution_count": 10,
   "metadata": {},
   "outputs": [],
   "source": [
    "# Replace '\\n' with ' ' in each string and join them into a single string\n",
    "context = \" \".join(result[0].replace(\"\\n\", \" \") for result in results)"
   ]
  },
  {
   "cell_type": "code",
   "execution_count": 11,
   "metadata": {},
   "outputs": [],
   "source": [
    "from langchain_core.prompts import PromptTemplate\n",
    "\n",
    "template = \"\"\"You are a Duke AI assistant, your goal is to \\\n",
    "    provide the clearest response to an question provided.\\\n",
    "    if in the context you cannot find the answer, \\\n",
    "    reply: I'm sorry, I don't have the answer to that.\n",
    "    \n",
    "    This is the context: {context}\n",
    "    This is the question: {question}\"\"\""
   ]
  },
  {
   "cell_type": "code",
   "execution_count": 12,
   "metadata": {},
   "outputs": [],
   "source": [
    "prompt = PromptTemplate(input_variables=[\"question\", \"context\"], template=template)"
   ]
  },
  {
   "cell_type": "code",
   "execution_count": 13,
   "metadata": {},
   "outputs": [
    {
     "name": "stderr",
     "output_type": "stream",
     "text": [
      "/Users/rafaeldavila/Documents/Duke/CREATE/LLM_test/data-optin-upload/venv/lib/python3.11/site-packages/langchain_core/_api/deprecation.py:117: LangChainDeprecationWarning: The function `run` was deprecated in LangChain 0.1.0 and will be removed in 0.2.0. Use invoke instead.\n",
      "  warn_deprecated(\n"
     ]
    }
   ],
   "source": [
    "from langchain import LLMChain\n",
    "from langchain_openai import OpenAI\n",
    "\n",
    "llm_gpt3_5_chain = LLMChain(prompt=prompt, llm=OpenAI())\n",
    "\n",
    "response = llm_gpt3_5_chain.run(question=text, context=context, temperature=0)"
   ]
  },
  {
   "cell_type": "code",
   "execution_count": 14,
   "metadata": {},
   "outputs": [
    {
     "name": "stdout",
     "output_type": "stream",
     "text": [
      "\n",
      "1. MuLan is a two-tower, joint audio-text embedding model that is trained using 44 million music recordings (370K hours) and weakly-associated, free-form text annotations.\n",
      "\n",
      "2. The resulting audio-text representation subsumes existing ontologies while also being able to graduate to true zero-shot functionalities.\n",
      "\n",
      "3. The MuLan embeddings have been shown to be versatile, with a range of experiments demonstrating their capabilities in transfer learning, zero-shot music tagging, language understanding in the music domain, and cross-modal retrieval applications.\n",
      "\n",
      "4. MuLan uses a combination of language models and Transformer-based architectures, such as BERT and Audio Spectrogram Transformer, to embed both audio and text inputs into a shared space of dimensiond= 128.\n",
      "\n",
      "5. The training dataset for MuLan includes 44 million 30-second clips of music audio from internet music videos, with accompanying text data from video titles, descriptions, comments, and linked playlists.\n"
     ]
    }
   ],
   "source": [
    "print(response)"
   ]
  },
  {
   "cell_type": "markdown",
   "metadata": {},
   "source": [
    "\"\\n\\nThe main ideas of the CS50 paper by Liu et al about the use of Generative AI in education are:\\n\\n1. The apprehension towards AI in education: The paper acknowledges the concerns about AI disrupting education, particularly in terms of facilitating academic dishonesty. This leads to a common response of forbidding the use of AI altogether.\\n\\n2. Incorporating AI into CS50: The authors chose to directly incorporate Generative AI into CS50, Harvard University's introductory course in computer science. They implemented guardrails to uphold academic integrity and promote meaningful learning.\\n\\n3. The potential of AI in education: The paper discusses how AI can potentially improve the learning experience by providing continuous, customized support to students and allowing human educators to focus on more complex pedagogical issues.\\n\\n4. The development of CS50.ai: The authors developed a suite of AI tools, including a chatbot and a virtual rubber duck, to assist students in CS50. These tools were initially available to summer students, then to online students, and finally to on-campus students.\\n\\n5. The challenges and solutions of using AI: The paper discusses the challenges faced in integrating AI into education, such as the subjectivity of grading and the potential for academic dishonesty. The authors propose solutions, such as design50\""
   ]
  }
 ],
 "metadata": {
  "kernelspec": {
   "display_name": "venv",
   "language": "python",
   "name": "python3"
  },
  "language_info": {
   "codemirror_mode": {
    "name": "ipython",
    "version": 3
   },
   "file_extension": ".py",
   "mimetype": "text/x-python",
   "name": "python",
   "nbconvert_exporter": "python",
   "pygments_lexer": "ipython3",
   "version": "3.11.5"
  }
 },
 "nbformat": 4,
 "nbformat_minor": 2
}
